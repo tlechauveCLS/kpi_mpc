{
 "cells": [
  {
   "cell_type": "markdown",
   "id": "855a8ae7-d2ff-4258-91a1-885f304142e7",
   "metadata": {},
   "source": [
    "<h1>Display the KPI-1b and associated PIs defined by MPC Sentinel-1</h1>\n",
    "The Key performance Indicators are designed to monitor the WV data quality evolution\n",
    "\n",
    "<i>Antoine Grouazel - Thomas Lechauve - February 2022</i>"
   ]
  },
  {
   "cell_type": "markdown",
   "id": "b9d20e5e-91c6-4afd-aadd-3b4685a20c47",
   "metadata": {},
   "source": [
    "# Define the directory where the .txt files computed with the kpi_mpc lib are stored"
   ]
  },
  {
   "cell_type": "code",
   "execution_count": 1,
   "id": "67367cd4-bec0-4ddf-87b3-a63c34f14383",
   "metadata": {},
   "outputs": [],
   "source": [
    "output = '/home/developer/notebooks/kpi-1b/output'\n",
    "\n",
    "units = ['S1A', 'S1B']\n",
    "\n",
    "wvs = ['wv1', 'wv2']"
   ]
  },
  {
   "cell_type": "markdown",
   "id": "4d6dacb7-d16e-4507-9204-508c70f08f0b",
   "metadata": {},
   "source": [
    "# Browse and gather the KPI/PI values from .txt files"
   ]
  },
  {
   "cell_type": "code",
   "execution_count": 2,
   "id": "3c1efa8d-5ece-4797-9fee-04d210de32c0",
   "metadata": {},
   "outputs": [
    {
     "name": "stdout",
     "output_type": "stream",
     "text": [
      "S1A wv1 nb files 0\n",
      "S1A wv2 nb files 0\n",
      "S1B wv1 nb files 0\n",
      "S1B wv2 nb files 0\n",
      "done dict_keys(['kpi', 'sta', 'sto', 'env', 'nb', 'bias', 'std'])\n",
      "cpt_corrupt 0\n"
     ]
    }
   ],
   "source": [
    "import glob\n",
    "import os\n",
    "import datetime\n",
    "import numpy as np\n",
    "\n",
    "outPRUN = {}\n",
    "cpt_corrupt = 0\n",
    "for sat in units:\n",
    "    \n",
    "    for wv in wvs:\n",
    "        outPRUN[f'{sat}_{wv}'] = {'kpi':[],'sta':[],'sto':[],'env':[],'nb':[],'bias':[],'std':[]}\n",
    "\n",
    "        lst_files = sorted(glob.glob(os.path.join(output,f'kpi_output_{sat}_{wv}_20*.txt')))\n",
    "\n",
    "        print(sat, wv, 'nb files', len(lst_files))\n",
    "        for ffi, ff in enumerate(lst_files):\n",
    "            with open(ff) as f:\n",
    "                content = f.readlines()[0].replace('\\n','').split(' ')\n",
    "\n",
    "            if len(content) == 7:\n",
    "                kpix,stax,_,stox,_,envx,nbx = content\n",
    "                meanbias = std = np.nan\n",
    "            elif len(content) == 9:\n",
    "                kpix,stax,_,stox,_,envx,nbx,meanbias,std = content\n",
    "            else:\n",
    "                cpt_corrupt += 1\n",
    "                continue\n",
    "\n",
    "            outPRUN[f'{sat}_{wv}']['kpi'].append(float(kpix))\n",
    "            outPRUN[f'{sat}_{wv}']['sta'].append(datetime.datetime.strptime(stax,'%Y-%m-%d'))\n",
    "            outPRUN[f'{sat}_{wv}']['sto'].append(datetime.datetime.strptime(stox,'%Y-%m-%d'))\n",
    "            outPRUN[f'{sat}_{wv}']['env'].append(float(envx))\n",
    "            outPRUN[f'{sat}_{wv}']['nb'].append(int(nbx))\n",
    "            outPRUN[f'{sat}_{wv}']['bias'].append(float(meanbias))\n",
    "            outPRUN[f'{sat}_{wv}']['std'].append(float(std))\n",
    "\n",
    "print('done',outPRUN[f'{sat}_{wv}'].keys())\n",
    "print('cpt_corrupt',cpt_corrupt)"
   ]
  },
  {
   "cell_type": "code",
   "execution_count": 3,
   "id": "3ae0a83d-438d-4bcb-ad4c-b825f3faf939",
   "metadata": {},
   "outputs": [],
   "source": [
    "def plot_vectors(outPRUN,typee,ax):\n",
    "    plt.sca(ax)\n",
    "    for kk in outPRUN:\n",
    "        if 'S1' in kk:\n",
    "            vect_dates = np.array(outPRUN[kk]['sta']) # tested sto\n",
    "            vect_x = np.array(outPRUN[kk][typee])\n",
    "            plt.plot(vect_dates,vect_x,'.',label=kk,ms=3)"
   ]
  },
  {
   "cell_type": "markdown",
   "id": "9dd86875-2e9b-40a9-959b-139e77878ddc",
   "metadata": {},
   "source": [
    "# Display figures of timeseries for KPI/PIs"
   ]
  },
  {
   "cell_type": "code",
   "execution_count": 4,
   "id": "2ba3eb94-b894-4ab3-8595-77313f6ae8ee",
   "metadata": {},
   "outputs": [
    {
     "ename": "ValueError",
     "evalue": "zero-size array to reduction operation minimum which has no identity",
     "output_type": "error",
     "traceback": [
      "\u001B[0;31m---------------------------------------------------------------------------\u001B[0m",
      "\u001B[0;31mValueError\u001B[0m                                Traceback (most recent call last)",
      "\u001B[0;32m/tmp/ipykernel_25663/2814256993.py\u001B[0m in \u001B[0;36m<module>\u001B[0;34m\u001B[0m\n\u001B[1;32m      2\u001B[0m \u001B[0;32mfrom\u001B[0m \u001B[0mmatplotlib\u001B[0m \u001B[0;32mimport\u001B[0m \u001B[0mpyplot\u001B[0m \u001B[0;32mas\u001B[0m \u001B[0mplt\u001B[0m\u001B[0;34m\u001B[0m\u001B[0;34m\u001B[0m\u001B[0m\n\u001B[1;32m      3\u001B[0m \u001B[0;32mimport\u001B[0m \u001B[0mnumpy\u001B[0m \u001B[0;32mas\u001B[0m \u001B[0mnp\u001B[0m\u001B[0;34m\u001B[0m\u001B[0;34m\u001B[0m\u001B[0m\n\u001B[0;32m----> 4\u001B[0;31m \u001B[0mmindate\u001B[0m \u001B[0;34m=\u001B[0m \u001B[0mnp\u001B[0m\u001B[0;34m.\u001B[0m\u001B[0mamin\u001B[0m\u001B[0;34m(\u001B[0m\u001B[0moutPRUN\u001B[0m\u001B[0;34m[\u001B[0m\u001B[0;34m'S1A_wv1'\u001B[0m\u001B[0;34m]\u001B[0m\u001B[0;34m[\u001B[0m\u001B[0;34m'sta'\u001B[0m\u001B[0;34m]\u001B[0m\u001B[0;34m)\u001B[0m\u001B[0;34m\u001B[0m\u001B[0;34m\u001B[0m\u001B[0m\n\u001B[0m\u001B[1;32m      5\u001B[0m \u001B[0mmaxdate\u001B[0m \u001B[0;34m=\u001B[0m \u001B[0mnp\u001B[0m\u001B[0;34m.\u001B[0m\u001B[0mamax\u001B[0m\u001B[0;34m(\u001B[0m\u001B[0moutPRUN\u001B[0m\u001B[0;34m[\u001B[0m\u001B[0;34m'S1A_wv1'\u001B[0m\u001B[0;34m]\u001B[0m\u001B[0;34m[\u001B[0m\u001B[0;34m'sto'\u001B[0m\u001B[0;34m]\u001B[0m\u001B[0;34m)\u001B[0m\u001B[0;34m\u001B[0m\u001B[0;34m\u001B[0m\u001B[0m\n\u001B[1;32m      6\u001B[0m \u001B[0mmindate\u001B[0m \u001B[0;34m=\u001B[0m \u001B[0mdatetime\u001B[0m\u001B[0;34m.\u001B[0m\u001B[0mdatetime\u001B[0m\u001B[0;34m(\u001B[0m\u001B[0;36m2014\u001B[0m\u001B[0;34m,\u001B[0m\u001B[0;36m4\u001B[0m\u001B[0;34m,\u001B[0m\u001B[0;36m1\u001B[0m\u001B[0;34m)\u001B[0m\u001B[0;34m\u001B[0m\u001B[0;34m\u001B[0m\u001B[0m\n",
      "\u001B[0;32m<__array_function__ internals>\u001B[0m in \u001B[0;36mamin\u001B[0;34m(*args, **kwargs)\u001B[0m\n",
      "\u001B[0;32m~/pyve/mpc/lib/python3.7/site-packages/numpy/core/fromnumeric.py\u001B[0m in \u001B[0;36mamin\u001B[0;34m(a, axis, out, keepdims, initial, where)\u001B[0m\n\u001B[1;32m   2878\u001B[0m     \"\"\"\n\u001B[1;32m   2879\u001B[0m     return _wrapreduction(a, np.minimum, 'min', axis, None, out,\n\u001B[0;32m-> 2880\u001B[0;31m                           keepdims=keepdims, initial=initial, where=where)\n\u001B[0m\u001B[1;32m   2881\u001B[0m \u001B[0;34m\u001B[0m\u001B[0m\n\u001B[1;32m   2882\u001B[0m \u001B[0;34m\u001B[0m\u001B[0m\n",
      "\u001B[0;32m~/pyve/mpc/lib/python3.7/site-packages/numpy/core/fromnumeric.py\u001B[0m in \u001B[0;36m_wrapreduction\u001B[0;34m(obj, ufunc, method, axis, dtype, out, **kwargs)\u001B[0m\n\u001B[1;32m     84\u001B[0m                 \u001B[0;32mreturn\u001B[0m \u001B[0mreduction\u001B[0m\u001B[0;34m(\u001B[0m\u001B[0maxis\u001B[0m\u001B[0;34m=\u001B[0m\u001B[0maxis\u001B[0m\u001B[0;34m,\u001B[0m \u001B[0mout\u001B[0m\u001B[0;34m=\u001B[0m\u001B[0mout\u001B[0m\u001B[0;34m,\u001B[0m \u001B[0;34m**\u001B[0m\u001B[0mpasskwargs\u001B[0m\u001B[0;34m)\u001B[0m\u001B[0;34m\u001B[0m\u001B[0;34m\u001B[0m\u001B[0m\n\u001B[1;32m     85\u001B[0m \u001B[0;34m\u001B[0m\u001B[0m\n\u001B[0;32m---> 86\u001B[0;31m     \u001B[0;32mreturn\u001B[0m \u001B[0mufunc\u001B[0m\u001B[0;34m.\u001B[0m\u001B[0mreduce\u001B[0m\u001B[0;34m(\u001B[0m\u001B[0mobj\u001B[0m\u001B[0;34m,\u001B[0m \u001B[0maxis\u001B[0m\u001B[0;34m,\u001B[0m \u001B[0mdtype\u001B[0m\u001B[0;34m,\u001B[0m \u001B[0mout\u001B[0m\u001B[0;34m,\u001B[0m \u001B[0;34m**\u001B[0m\u001B[0mpasskwargs\u001B[0m\u001B[0;34m)\u001B[0m\u001B[0;34m\u001B[0m\u001B[0;34m\u001B[0m\u001B[0m\n\u001B[0m\u001B[1;32m     87\u001B[0m \u001B[0;34m\u001B[0m\u001B[0m\n\u001B[1;32m     88\u001B[0m \u001B[0;34m\u001B[0m\u001B[0m\n",
      "\u001B[0;31mValueError\u001B[0m: zero-size array to reduction operation minimum which has no identity"
     ]
    }
   ],
   "source": [
    "%matplotlib inline\n",
    "from matplotlib import pyplot as plt\n",
    "import numpy as np\n",
    "mindate = np.amin(outPRUN['S1A_wv1']['sta'])\n",
    "maxdate = np.amax(outPRUN['S1A_wv1']['sto'])\n",
    "mindate = datetime.datetime(2014,4,1)\n",
    "mindate = datetime.datetime(2021,1,1)\n",
    "maxdate = datetime.datetime(2022,3,1)\n",
    "print(mindate,maxdate)\n",
    "%matplotlib inline\n",
    "plt.figure(dpi=150,figsize=(12,9))\n",
    "ax = plt.subplot(5,1,1)\n",
    "plt.title('KPI')\n",
    "plot_vectors(outPRUN,'kpi',ax)\n",
    "plt.legend(ncol=4)\n",
    "plt.grid(True)\n",
    "plt.axhline(y=95,lw=1,c='m')\n",
    "plt.ylabel('KPI %%')\n",
    "#plt.tick_params(bottom=\"off\", top=\"on\")\n",
    "plt.xlim(mindate,maxdate)\n",
    "plt.xticks(rotation=45,visible=False)\n",
    "start, end = ax.get_xlim()\n",
    "stepsize = 30\n",
    "ax.xaxis.set_ticks(np.arange(start, end, stepsize))\n",
    "\n",
    "ax = plt.subplot(5,1,2)\n",
    "plt.title('KPI zoom')\n",
    "plot_vectors(outPRUN,'kpi',ax)\n",
    "plt.legend(ncol=4)\n",
    "plt.grid(True)\n",
    "plt.axhline(y=95,lw=1,c='m')\n",
    "plt.ylabel('KPI %%')\n",
    "plt.xticks(rotation=45,visible=False)\n",
    "plt.xlim(mindate,maxdate)\n",
    "plt.ylim(90,100)\n",
    "ax.xaxis.set_ticks(np.arange(start, end, stepsize))\n",
    "\n",
    "ax = plt.subplot(5,1,3)\n",
    "plt.title('envelop')\n",
    "plot_vectors(outPRUN,'env',ax)\n",
    "plt.legend(ncol=4)\n",
    "plt.grid(True)\n",
    "plt.ylabel('2 $\\sigma$ envelop [m]')\n",
    "plt.xlim(mindate,maxdate)\n",
    "plt.xticks(rotation=45,visible=False)\n",
    "ax.xaxis.set_ticks(np.arange(start, end, stepsize))\n",
    "\n",
    "ax = plt.subplot(5,1,4)\n",
    "plt.title('vect_nb')\n",
    "plot_vectors(outPRUN,'nb',ax)\n",
    "plt.legend(ncol=4)\n",
    "plt.grid(True)\n",
    "plt.xticks(rotation=45,visible=False)\n",
    "plt.xlim(mindate,maxdate)\n",
    "plt.ylabel('nb WV used for KPI')\n",
    "ax.xaxis.set_ticks(np.arange(start, end, stepsize))\n",
    "\n",
    "\n",
    "ax = plt.subplot(5,1,5)\n",
    "plt.title('bias KPI')\n",
    "plot_vectors(outPRUN,'bias',ax)\n",
    "plt.legend(ncol=4)\n",
    "plt.grid(True)\n",
    "plt.xticks(rotation=45)\n",
    "plt.ylabel('bias')\n",
    "plt.xlim(mindate,maxdate)\n",
    "plt.xlabel('date of the starting date of the 30 days period')\n",
    "ax.xaxis.set_ticks(np.arange(start, end, stepsize))\n",
    "plt.show()\n",
    "\n",
    "\n",
    "print(start,end)"
   ]
  }
 ],
 "metadata": {
  "kernelspec": {
   "display_name": "Python 3 (ipykernel)",
   "language": "python",
   "name": "python3"
  },
  "language_info": {
   "codemirror_mode": {
    "name": "ipython",
    "version": 3
   },
   "file_extension": ".py",
   "mimetype": "text/x-python",
   "name": "python",
   "nbconvert_exporter": "python",
   "pygments_lexer": "ipython3",
   "version": "3.9.10"
  }
 },
 "nbformat": 4,
 "nbformat_minor": 5
}